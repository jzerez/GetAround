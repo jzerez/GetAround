{
 "cells": [
  {
   "cell_type": "markdown",
   "metadata": {},
   "source": [
    "# osmnx samples and testing"
   ]
  },
  {
   "cell_type": "code",
   "execution_count": 2,
   "metadata": {},
   "outputs": [],
   "source": [
    "from map_utils import *\n",
    "import numpy as np\n",
    "import matplotlib.pyplot as plt\n",
    "import networkx as nx\n",
    "import osmnx as ox\n",
    "import pprint as pp\n",
    "\n",
    "G = get_data('Detroit', mode='bike')\n"
   ]
  },
  {
   "cell_type": "markdown",
   "metadata": {},
   "source": [
    "### Get the first 3 elements of the list of nodes in G"
   ]
  },
  {
   "cell_type": "code",
   "execution_count": 3,
   "metadata": {},
   "outputs": [],
   "source": [
    "sample_nodes = list(G.nodes)[:3]\n"
   ]
  },
  {
   "cell_type": "code",
   "execution_count": 4,
   "metadata": {},
   "outputs": [
    {
     "name": "stdout",
     "output_type": "stream",
     "text": [
      "30449229\n",
      "[62618784]\n",
      "AdjacencyView({62618784: {0: {'osmid': 498529536, 'lanes': '6', 'name': 'East Jefferson Avenue', 'highway': 'secondary', 'maxspeed': '35 mph', 'cycleway': 'track', 'oneway': False, 'length': 19.969, 'id': '0'}}})\n",
      "OutMultiEdgeDataView([(30449229, 62618784), (62618784, 30449229), (62618784, 4968464630)])\n",
      "{'highway': 'traffic_signals',\n",
      " 'lat': '42.3705206',\n",
      " 'lon': '-82.9537701',\n",
      " 'osmid': 30449229,\n",
      " 'ref': 'nan',\n",
      " 'x': 339132.5511493586,\n",
      " 'y': 4692764.825147958}\n",
      "30449319\n",
      "[4899258030]\n",
      "AdjacencyView({4899258030: {0: {'osmid': 421886753, 'lanes': '7', 'name': 'East Jefferson Avenue', 'highway': 'secondary', 'maxspeed': '35 mph', 'cycleway': 'track', 'oneway': False, 'length': 23.074, 'id': '0'}}})\n",
      "OutMultiEdgeDataView([(30449319, 4899258030), (4899258030, 4899258029), (4899258030, 30449319)])\n",
      "{'highway': 'traffic_signals',\n",
      " 'lat': '42.3705324',\n",
      " 'lon': '-82.953648',\n",
      " 'osmid': 30449319,\n",
      " 'ref': 'nan',\n",
      " 'x': 339142.6349744556,\n",
      " 'y': 4692765.904321805}\n",
      "30917692\n",
      "[4968464630, 4216330857]\n",
      "AdjacencyView({4968464630: {0: {'osmid': 421886755, 'lanes': '7', 'name': 'East Jefferson Avenue', 'highway': 'secondary', 'maxspeed': '35 mph', 'cycleway': 'track', 'oneway': False, 'length': 41.484, 'id': '0'}}, 4216330857: {0: {'osmid': 498529537, 'lanes': '7', 'name': 'East Jefferson Avenue', 'highway': 'secondary', 'maxspeed': '35 mph', 'cycleway': 'track', 'oneway': False, 'length': 46.227, 'id': '0'}}})\n",
      "OutMultiEdgeDataView([(30917692, 4968464630), (30917692, 4216330857), (4968464630, 30917692), (4968464630, 62618784)])\n",
      "{'highway': 'nan',\n",
      " 'lat': '42.3704239',\n",
      " 'lon': '-82.954768',\n",
      " 'osmid': 30917692,\n",
      " 'ref': 'nan',\n",
      " 'x': 339050.13716131664,\n",
      " 'y': 4692755.976841852}\n"
     ]
    }
   ],
   "source": [
    "for node in sample_nodes:\n",
    "    # print nodes to see attributes\n",
    "    print(node)\n",
    "    # print the edges that contain the current node\n",
    "    pp.pprint(list(G[node]))\n",
    "    pp.pprint(G[node])\n",
    "    # print \n",
    "    pp.pprint(G.edges([node, list(G[node])[0]]))\n",
    "    \n",
    "    pp.pprint(G.nodes[node])"
   ]
  },
  {
   "cell_type": "code",
   "execution_count": 35,
   "metadata": {},
   "outputs": [
    {
     "name": "stdout",
     "output_type": "stream",
     "text": [
      "(30449229, 62618784)\n",
      "{0: {'osmid': 498529536, 'lanes': '6', 'name': 'East Jefferson Avenue', 'highway': 'secondary', 'maxspeed': '35 mph', 'cycleway': 'track', 'oneway': False, 'length': 19.969, 'id': '0'}}\n",
      "{0: {'osmid': 498529536, 'lanes': '6', 'name': 'East Jefferson Avenue', 'highway': 'secondary', 'maxspeed': '35 mph', 'cycleway': 'track', 'oneway': False, 'length': 19.969, 'id': '0'}}\n"
     ]
    }
   ],
   "source": [
    "sample_edges = list(G.edges())[0]\n",
    "print(sample_edges)\n",
    "print(G.get_edge_data(sample_edges[0], sample_edges[1]))\n",
    "print(G[sample_edges[1]][sample_edges[0]])\n",
    "      \n",
    "# print(G.edges(sample_edges[0]))"
   ]
  },
  {
   "cell_type": "code",
   "execution_count": null,
   "metadata": {},
   "outputs": [],
   "source": []
  }
 ],
 "metadata": {
  "kernelspec": {
   "display_name": "Python 3",
   "language": "python",
   "name": "python3"
  },
  "language_info": {
   "codemirror_mode": {
    "name": "ipython",
    "version": 3
   },
   "file_extension": ".py",
   "mimetype": "text/x-python",
   "name": "python",
   "nbconvert_exporter": "python",
   "pygments_lexer": "ipython3",
   "version": "3.7.6"
  }
 },
 "nbformat": 4,
 "nbformat_minor": 2
}
